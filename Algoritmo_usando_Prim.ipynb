{
  "nbformat": 4,
  "nbformat_minor": 0,
  "metadata": {
    "colab": {
      "provenance": [],
      "authorship_tag": "ABX9TyOpejs6iNz90q5zPWyeDKyn",
      "include_colab_link": true
    },
    "kernelspec": {
      "name": "python3",
      "display_name": "Python 3"
    },
    "language_info": {
      "name": "python"
    }
  },
  "cells": [
    {
      "cell_type": "markdown",
      "metadata": {
        "id": "view-in-github",
        "colab_type": "text"
      },
      "source": [
        "<a href=\"https://colab.research.google.com/github/matkeii/THC/blob/main/Algoritmo_usando_Prim.ipynb\" target=\"_parent\"><img src=\"https://colab.research.google.com/assets/colab-badge.svg\" alt=\"Open In Colab\"/></a>"
      ]
    },
    {
      "cell_type": "code",
      "source": [
        "import networkx as nx\n",
        "import matplotlib.pyplot as plt\n",
        "\n",
        "def prim(aristas):\n",
        "    for nodo, (conexion, pesos) in aristas.items(): #AÑADIMOS NODOS Y ARISTAS\n",
        "        for i, conexion in enumerate(conexiones):\n",
        "            G.add_edge(nodo, conexion, weight=pesos[i])\n",
        "\n",
        "    nodo_inicial = list(aristas.keys())[0] #TOMAMOS LA ARISTA DE MENOR PESO\n",
        "    nodos_arbol = set([nodo_inicial]) #CREAMOS UN CONJUNTO DE ARISTAS YA USADAS\n",
        "    aristas_arbol = []\n",
        "\n",
        "    for _ in range(len(aristas) - 1):\n",
        "        arista_minima = None #BUSCAMOS NUESTRA ARISTA MINIMA\n",
        "        for edge in G.edges(data=True):\n",
        "            if edge[0] in nodos_arbol and edge[1] not in nodos_arbol:\n",
        "                if arista_minima is None or edge[2]['weight'] < arista_minima[2]['weight']:\n",
        "                    arista_minima = edge\n",
        "\n",
        "        nodos_arbol.add(arista_minima[1]) #AGREGAMOS EL NODO Y LA ARISTA AL ARBOL INICIAL\n",
        "        aristas_arbol.append((arista_minima[0], arista_minima[1]))\n",
        "\n",
        "    return aristas_arbol"
      ],
      "metadata": {
        "id": "pqvp6b4gZzdx"
      },
      "execution_count": 42,
      "outputs": []
    },
    {
      "cell_type": "code",
      "source": [
        "#USANDO DATOS DE NUESTRO GRAFO\n",
        "aristas = {\n",
        "    'A': [['B', 'C'], [5, 2]],\n",
        "    'B': [['C', 'E'], [7, 3]],\n",
        "    'C': [['D', 'F'], [8, 6]],\n",
        "    'D': [['G'], [10]],\n",
        "    'E': [['F', 'I'], [9, 4]],\n",
        "    'F': [['H'], [7]],\n",
        "    'G': [['H'], [3]],\n",
        "    'H': [['J', 'K'], [5, 2]],\n",
        "    'I': [['K'], [1]],\n",
        "    'J': [['K'], [10]]\n",
        "}\n",
        "\n",
        "#APLICAMOS ALGORITMO DE PRIM\n",
        "aristas_arbol_prim = prim(aristas)\n",
        "\n",
        "print(\"Aristas del árbol de expansión mínima:\", aristas_arbol_prim)\n"
      ],
      "metadata": {
        "colab": {
          "base_uri": "https://localhost:8080/"
        },
        "id": "xuIkd8_PaCHF",
        "outputId": "00118ed3-d78c-4516-bec2-a8eee4eca67e"
      },
      "execution_count": 48,
      "outputs": [
        {
          "output_type": "stream",
          "name": "stdout",
          "text": [
            "Aristas del árbol de expansión mínima: ({('A', 'C'), ('C', 'D'), ('I', 'K'), ('F', 'H'), ('H', 'J'), ('A', 'B'), ('C', 'F'), ('B', 'E'), ('E', 'I')}, 41)\n"
          ]
        }
      ]
    }
  ]
}