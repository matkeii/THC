{
  "cells": [
    {
      "cell_type": "markdown",
      "metadata": {
        "id": "view-in-github",
        "colab_type": "text"
      },
      "source": [
        "<a href=\"https://colab.research.google.com/github/matkeii/THC/blob/main/Clase_10_oct.ipynb\" target=\"_parent\"><img src=\"https://colab.research.google.com/assets/colab-badge.svg\" alt=\"Open In Colab\"/></a>"
      ]
    },
    {
      "cell_type": "code",
      "execution_count": null,
      "metadata": {
        "colab": {
          "base_uri": "https://localhost:8080/"
        },
        "id": "c2xl8s6UvS_z",
        "outputId": "ebf764b1-abcc-48b9-a0c8-32ee7facd021"
      },
      "outputs": [
        {
          "name": "stdout",
          "output_type": "stream",
          "text": [
            "{'brand': 'Ford', 'model': 'mustang', 'year 1': 1964, 'year 2': 2020}\n"
          ]
        }
      ],
      "source": [
        "thisdict= {\n",
        "    \"brand\": \"Ford\",\n",
        "    \"model\": \"mustang\",\n",
        "    \"year 1\": 1964,\n",
        "    \"year 2\": 2020\n",
        "}\n",
        "print(thisdict)"
      ]
    },
    {
      "cell_type": "code",
      "execution_count": null,
      "metadata": {
        "colab": {
          "base_uri": "https://localhost:8080/",
          "height": 140
        },
        "id": "l5cfRGw0xMvM",
        "outputId": "f342fa33-1c4a-418c-e7a1-18c7896ab319"
      },
      "outputs": [
        {
          "ename": "SyntaxError",
          "evalue": "ignored",
          "output_type": "error",
          "traceback": [
            "\u001b[0;36m  File \u001b[0;32m\"<ipython-input-4-2c4c73ad8777>\"\u001b[0;36m, line \u001b[0;32m3\u001b[0m\n\u001b[0;31m    for i in diccionario.keys\u001b[0m\n\u001b[0m                             ^\u001b[0m\n\u001b[0;31mSyntaxError\u001b[0m\u001b[0;31m:\u001b[0m expected ':'\n"
          ]
        }
      ],
      "source": [
        "diccionario = {'python': 2.7, 'zope': 2.13, 'plone': 5.7}\n",
        "1==[]\n",
        "for i in diccionario.keys\n",
        "prin(1)"
      ]
    },
    {
      "cell_type": "code",
      "execution_count": null,
      "metadata": {
        "colab": {
          "base_uri": "https://localhost:8080/"
        },
        "id": "6-vubLWByPl_",
        "outputId": "7f3955c1-3943-47aa-cee3-3b2e71ee44cd"
      },
      "outputs": [
        {
          "name": "stdout",
          "output_type": "stream",
          "text": [
            "  Nombre  Edad     Ciudad\n",
            "0   juan    25     madrid\n",
            "1  maría    28  barcelona\n",
            "2  pedro    32   valencia\n",
            "3  luisa    44    sevilla\n"
          ]
        }
      ],
      "source": [
        "import pandas as pd\n",
        "\n",
        "#CREAR UN DICCIONARIO CON DATOS\n",
        "datos = {\n",
        "    \"Nombre\": [\"juan\", \"maría\", \"pedro\", \"luisa\"],\n",
        "    \"Edad\": [25,28,32,44],\n",
        "    \"Ciudad\": [\"madrid\", \"barcelona\", \"valencia\", \"sevilla\"]\n",
        "}\n",
        "#CREAR UN DATAFRAME A PARTIR DE UN DICCIONARIO\n",
        "dataframe = pd.DataFrame(datos)\n",
        "#IMPRIMIR EL DATA FRAME\n",
        "print(dataframe)"
      ]
    },
    {
      "cell_type": "code",
      "execution_count": null,
      "metadata": {
        "colab": {
          "base_uri": "https://localhost:8080/"
        },
        "id": "w72c1I7vzcIZ",
        "outputId": "dc9e4a6c-fb13-4c8a-f8e2-33bf87e17ab3"
      },
      "outputs": [
        {
          "name": "stdout",
          "output_type": "stream",
          "text": [
            "(1, 2, 3, 'Hola', True)\n"
          ]
        }
      ],
      "source": [
        "#CREAR UNA TUPLA\n",
        "mi_tupla = (1,2,3, \"Hola\", True)\n",
        "print(mi_tupla)"
      ]
    },
    {
      "cell_type": "code",
      "execution_count": null,
      "metadata": {
        "colab": {
          "base_uri": "https://localhost:8080/"
        },
        "id": "miDvTo8vzwK1",
        "outputId": "296b08ed-0075-49a3-c3fd-0952b2d24438"
      },
      "outputs": [
        {
          "name": "stdout",
          "output_type": "stream",
          "text": [
            "mango\n",
            "sandía\n",
            "pepino\n"
          ]
        }
      ],
      "source": [
        "frutas = (\"mango\", \"sandía\", \"pepino\")\n",
        "for fruta in frutas:\n",
        "  print(fruta)"
      ]
    },
    {
      "cell_type": "code",
      "execution_count": null,
      "metadata": {
        "colab": {
          "base_uri": "https://localhost:8080/"
        },
        "id": "f4GaKXJG1XrA",
        "outputId": "32416051-9ac4-4502-baa2-5375b6a82bd5"
      },
      "outputs": [
        {
          "name": "stdout",
          "output_type": "stream",
          "text": [
            "La manzana si está en la tupla.\n"
          ]
        }
      ],
      "source": [
        "frutas = (\"mango\", \"sandía\", \"pepino\", \"manzana\")\n",
        "if 'manzana' in frutas:\n",
        "  print('La manzana si está en la tupla.')"
      ]
    },
    {
      "cell_type": "code",
      "execution_count": null,
      "metadata": {
        "id": "Kpg_il8_2Q7R"
      },
      "outputs": [],
      "source": [
        "def mi_funcion():\n",
        "  print(\"Hola, te saludo desde la función\")"
      ]
    },
    {
      "cell_type": "code",
      "execution_count": null,
      "metadata": {
        "colab": {
          "base_uri": "https://localhost:8080/"
        },
        "id": "NMAeeabZ20Ij",
        "outputId": "1937af34-0612-4ae9-de9d-496ea646cab3"
      },
      "outputs": [
        {
          "name": "stdout",
          "output_type": "stream",
          "text": [
            "Hola, te saludo desde la función\n"
          ]
        }
      ],
      "source": [
        "mi_funcion()"
      ]
    },
    {
      "cell_type": "code",
      "execution_count": null,
      "metadata": {
        "colab": {
          "base_uri": "https://localhost:8080/"
        },
        "id": "k2redaLH3B1z",
        "outputId": "1637cca1-1158-4664-de5c-4ce86a9a764a"
      },
      "outputs": [
        {
          "name": "stdout",
          "output_type": "stream",
          "text": [
            "Hola Pau te saludo desde la función\n"
          ]
        }
      ],
      "source": [
        "def mi_funcion_nueva(fname):\n",
        "  print(\"Hola \"+fname+ \" te saludo desde la función.\")\n",
        "\n",
        "mi_funcion_nueva(\"Pau\")"
      ]
    },
    {
      "cell_type": "code",
      "execution_count": null,
      "metadata": {
        "colab": {
          "base_uri": "https://localhost:8080/"
        },
        "id": "Yqole88G4EZ8",
        "outputId": "041306bb-979b-48db-d27d-5d982c6dfbaa"
      },
      "outputs": [
        {
          "name": "stdout",
          "output_type": "stream",
          "text": [
            "Hola Pau Ramos Reyes te saludo desde la función.\n"
          ]
        }
      ],
      "source": [
        "def Nombre(fname,lname):\n",
        "  print(\"Hola \"+fname+ \" \"+lname+ \" te saludo desde la función.\")\n",
        "\n",
        "Nombre(\"Pau\", \"Ramos Reyes\")"
      ]
    },
    {
      "cell_type": "code",
      "execution_count": null,
      "metadata": {
        "colab": {
          "background_save": true
        },
        "id": "6OmbJmtf4mBu",
        "outputId": "0443902d-a536-4e5c-f7cd-8705804e6c16"
      },
      "outputs": [
        {
          "name": "stdout",
          "output_type": "stream",
          "text": [
            "El niño menor es Linus\n"
          ]
        }
      ],
      "source": [
        "def mi_funcion(*kids):\n",
        "  print(\"El niño menor es \"+ kids[2])\n",
        "\n",
        "mi_funcion(\"Emil\", \"Tobias\", \"Linus\")"
      ]
    },
    {
      "cell_type": "code",
      "source": [
        "A =[1,2,3]\n",
        "B =[4,5,6]\n",
        "def sum_vec(A,B):\n",
        "  if len(A)==len(B):\n",
        "    n =len(A)\n",
        "    C= n*[0.0]\n",
        "    for i in range(n):\n",
        "      C[i]= A[i] + B[i]\n",
        "  else:\n",
        "    print(\"sin resultado.\")\n",
        "  print(C)\n",
        "\n",
        "sum_vec(A,B)"
      ],
      "metadata": {
        "colab": {
          "base_uri": "https://localhost:8080/"
        },
        "id": "UpM3b70z_INg",
        "outputId": "adf272e5-67fa-4719-b705-ee34aa7a97fe"
      },
      "execution_count": 51,
      "outputs": [
        {
          "output_type": "stream",
          "name": "stdout",
          "text": [
            "[5, 7, 9]\n"
          ]
        }
      ]
    }
  ],
  "metadata": {
    "colab": {
      "provenance": [],
      "authorship_tag": "ABX9TyNwLqllAUufCUH2zxavPEUZ",
      "include_colab_link": true
    },
    "kernelspec": {
      "display_name": "Python 3",
      "name": "python3"
    },
    "language_info": {
      "name": "python"
    }
  },
  "nbformat": 4,
  "nbformat_minor": 0
}