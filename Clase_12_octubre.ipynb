{
  "nbformat": 4,
  "nbformat_minor": 0,
  "metadata": {
    "colab": {
      "provenance": [],
      "authorship_tag": "ABX9TyNX5th3dnwJFWVl7iImbuQh",
      "include_colab_link": true
    },
    "kernelspec": {
      "name": "python3",
      "display_name": "Python 3"
    },
    "language_info": {
      "name": "python"
    }
  },
  "cells": [
    {
      "cell_type": "markdown",
      "metadata": {
        "id": "view-in-github",
        "colab_type": "text"
      },
      "source": [
        "<a href=\"https://colab.research.google.com/github/matkeii/THC/blob/main/Clase_12_octubre.ipynb\" target=\"_parent\"><img src=\"https://colab.research.google.com/assets/colab-badge.svg\" alt=\"Open In Colab\"/></a>"
      ]
    },
    {
      "cell_type": "code",
      "execution_count": null,
      "metadata": {
        "id": "cb5E9SL3Eqdc"
      },
      "outputs": [],
      "source": [
        "def mi_funcion(x):\n",
        "  pass #se sigue del paso anterior"
      ]
    },
    {
      "cell_type": "code",
      "source": [
        "numbers = [5,12,8,3]\n",
        "max_num = max(numbers)\n",
        "min_num = min(numbers)\n"
      ],
      "metadata": {
        "id": "86jocUTtFc4O"
      },
      "execution_count": null,
      "outputs": []
    },
    {
      "cell_type": "code",
      "source": [
        "num=3.123575\n",
        "round(num,3)"
      ],
      "metadata": {
        "colab": {
          "base_uri": "https://localhost:8080/"
        },
        "id": "sDssgjs0FoZ5",
        "outputId": "a7e222c9-0d6f-4f07-996a-0b7f2f27771d"
      },
      "execution_count": 3,
      "outputs": [
        {
          "output_type": "execute_result",
          "data": {
            "text/plain": [
              "3.124"
            ]
          },
          "metadata": {},
          "execution_count": 3
        }
      ]
    },
    {
      "cell_type": "code",
      "source": [
        "x = lambda a : a + 10  #a es la entrada : x es la función\n",
        "print(x(5))"
      ],
      "metadata": {
        "colab": {
          "base_uri": "https://localhost:8080/"
        },
        "id": "XPGh75WtF_k6",
        "outputId": "42e481fa-5bc9-4792-e5b5-c0d0d29778a6"
      },
      "execution_count": 4,
      "outputs": [
        {
          "output_type": "stream",
          "name": "stdout",
          "text": [
            "15\n"
          ]
        }
      ]
    },
    {
      "cell_type": "code",
      "source": [
        "x = lambda a,b,c : a+b+c\n",
        "print(x(5,2,8))"
      ],
      "metadata": {
        "colab": {
          "base_uri": "https://localhost:8080/"
        },
        "id": "wMrY1ERPGnCk",
        "outputId": "5d7d2135-5bb6-4395-c30f-b48db9404212"
      },
      "execution_count": 5,
      "outputs": [
        {
          "output_type": "stream",
          "name": "stdout",
          "text": [
            "15\n"
          ]
        }
      ]
    },
    {
      "cell_type": "code",
      "source": [
        "def mifunc(n):\n",
        "  return lambda a : a*n #a una función se le agrega otra función (composición)( f(g(x)) )\n",
        "\n",
        "midoble = mifunc(2)\n",
        "\n",
        "print(midoble(11))"
      ],
      "metadata": {
        "colab": {
          "base_uri": "https://localhost:8080/"
        },
        "id": "B_0SkweVG3lq",
        "outputId": "ea4bb141-3bcf-46f4-dfa8-dfe7aa454e83"
      },
      "execution_count": 9,
      "outputs": [
        {
          "output_type": "stream",
          "name": "stdout",
          "text": [
            "22\n"
          ]
        }
      ]
    },
    {
      "cell_type": "code",
      "source": [
        "def mifunc(n):\n",
        "  return lambda a : a*n\n",
        "\n",
        "midoble = mifunc(2)\n",
        "mitriple = mifunc(3)\n",
        "\n",
        "print(midoble(11))\n",
        "print(mitriple(11))"
      ],
      "metadata": {
        "colab": {
          "base_uri": "https://localhost:8080/"
        },
        "id": "tEf-DkLwIPPv",
        "outputId": "b3554073-75f5-4ff6-db26-be4ccc91f788"
      },
      "execution_count": 12,
      "outputs": [
        {
          "output_type": "stream",
          "name": "stdout",
          "text": [
            "22\n",
            "33\n"
          ]
        }
      ]
    },
    {
      "cell_type": "code",
      "source": [
        "def mi_func(list):\n",
        "  for x in range(1,101):\n",
        "    if x%2 == 0:\n",
        "      print(x)\n",
        "      #lista.append(x)\n",
        "  return x\n",
        "mi_func(list)"
      ],
      "metadata": {
        "colab": {
          "base_uri": "https://localhost:8080/"
        },
        "id": "skC2-YjDIhmG",
        "outputId": "c6f4f710-35f4-4d70-a5c7-a06b28587ebc"
      },
      "execution_count": 85,
      "outputs": [
        {
          "output_type": "stream",
          "name": "stdout",
          "text": [
            "2\n",
            "4\n",
            "6\n",
            "8\n",
            "10\n",
            "12\n",
            "14\n",
            "16\n",
            "18\n",
            "20\n",
            "22\n",
            "24\n",
            "26\n",
            "28\n",
            "30\n",
            "32\n",
            "34\n",
            "36\n",
            "38\n",
            "40\n",
            "42\n",
            "44\n",
            "46\n",
            "48\n",
            "50\n",
            "52\n",
            "54\n",
            "56\n",
            "58\n",
            "60\n",
            "62\n",
            "64\n",
            "66\n",
            "68\n",
            "70\n",
            "72\n",
            "74\n",
            "76\n",
            "78\n",
            "80\n",
            "82\n",
            "84\n",
            "86\n",
            "88\n",
            "90\n",
            "92\n",
            "94\n",
            "96\n",
            "98\n",
            "100\n"
          ]
        },
        {
          "output_type": "execute_result",
          "data": {
            "text/plain": [
              "100"
            ]
          },
          "metadata": {},
          "execution_count": 85
        }
      ]
    },
    {
      "cell_type": "code",
      "source": [
        "name = \"Elsa\"\n",
        "carac = [\"#\", \"&\", \"¡\", \"%\"]\n",
        "for letra in name:\n",
        "  print(letra)\n",
        "list(letra)\n",
        "\n",
        "def mi_func(name,carac):\n",
        "  return lambda a : letra + carac\n"
      ],
      "metadata": {
        "colab": {
          "base_uri": "https://localhost:8080/"
        },
        "id": "r7ZfTv8NS6y7",
        "outputId": "58ab4b9c-5c6b-424a-ff64-a8ef784103ae"
      },
      "execution_count": 87,
      "outputs": [
        {
          "output_type": "stream",
          "name": "stdout",
          "text": [
            "E\n",
            "l\n",
            "s\n",
            "a\n"
          ]
        }
      ]
    },
    {
      "cell_type": "code",
      "source": [
        "#GENERAR MATRICES\n",
        "A = [[1,2,3], [4,5,6], [7,8,9]]\n",
        "print(A)\n",
        "print(A[0][0],A[0][1],A[0][2]) #imprime los términos empezando por 0 tal que 1=0 y 2=1\n",
        "\n",
        "for j in range(len(A)):\n",
        "  print(A[0][j])\n",
        "  print(A[j][0])"
      ],
      "metadata": {
        "colab": {
          "base_uri": "https://localhost:8080/"
        },
        "id": "Xq9bLQieUddh",
        "outputId": "b4567870-1cb7-402e-e4ae-0ad3268c8028"
      },
      "execution_count": 97,
      "outputs": [
        {
          "output_type": "stream",
          "name": "stdout",
          "text": [
            "[[1, 2, 3], [4, 5, 6], [7, 8, 9]]\n",
            "1 2 3\n",
            "1\n",
            "1\n",
            "2\n",
            "4\n",
            "3\n",
            "7\n"
          ]
        }
      ]
    },
    {
      "cell_type": "code",
      "source": [
        "A = [[1,2,3], [4,5,6], [7,8,9]]\n",
        "for i in range(len(A)):\n",
        "  for j in range(len(A)):\n",
        "    print(A[i][j])"
      ],
      "metadata": {
        "colab": {
          "base_uri": "https://localhost:8080/"
        },
        "id": "WRam4wupXWEu",
        "outputId": "b9f7bcbf-b555-45ae-d46e-0bdaffb5e083"
      },
      "execution_count": 96,
      "outputs": [
        {
          "output_type": "stream",
          "name": "stdout",
          "text": [
            "1\n",
            "2\n",
            "3\n",
            "4\n",
            "5\n",
            "6\n",
            "7\n",
            "8\n",
            "9\n"
          ]
        }
      ]
    },
    {
      "cell_type": "code",
      "source": [
        "A = [[1,2,3], [4,5,6], [7,8,9]]\n",
        "B = [[1,2,3], [4,5,6], [7,8,9]]\n",
        "for i in range(len(A)):\n",
        "  for j in range(len(A)):\n",
        "    print(A[i][j] + B[i][j])"
      ],
      "metadata": {
        "colab": {
          "base_uri": "https://localhost:8080/"
        },
        "id": "6MXqgb_bXlIC",
        "outputId": "4522e38f-be75-40e9-d4b4-a54edcc7ab68"
      },
      "execution_count": 98,
      "outputs": [
        {
          "output_type": "stream",
          "name": "stdout",
          "text": [
            "2\n",
            "4\n",
            "6\n",
            "8\n",
            "10\n",
            "12\n",
            "14\n",
            "16\n",
            "18\n"
          ]
        }
      ]
    },
    {
      "cell_type": "code",
      "source": [
        "A = [[1,2,3], [4,5,6], [7,8,9]]\n",
        "B = [[1,2,3], [4,5,6], [7,8,9]]\n",
        "for i in range(len(A)):\n",
        "  for j in range(len(A)):\n",
        "    print(A[i][j] * B[i][j])"
      ],
      "metadata": {
        "colab": {
          "base_uri": "https://localhost:8080/"
        },
        "id": "wqr9_xVSX17C",
        "outputId": "2ebe9e58-8f6a-46ae-e25d-9e6e830e417d"
      },
      "execution_count": 99,
      "outputs": [
        {
          "output_type": "stream",
          "name": "stdout",
          "text": [
            "1\n",
            "4\n",
            "9\n",
            "16\n",
            "25\n",
            "36\n",
            "49\n",
            "64\n",
            "81\n"
          ]
        }
      ]
    }
  ]
}