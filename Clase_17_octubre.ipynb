{
  "nbformat": 4,
  "nbformat_minor": 0,
  "metadata": {
    "colab": {
      "provenance": [],
      "authorship_tag": "ABX9TyPV9e2qqliXQT+zrR8g/vPk",
      "include_colab_link": true
    },
    "kernelspec": {
      "name": "python3",
      "display_name": "Python 3"
    },
    "language_info": {
      "name": "python"
    }
  },
  "cells": [
    {
      "cell_type": "markdown",
      "metadata": {
        "id": "view-in-github",
        "colab_type": "text"
      },
      "source": [
        "<a href=\"https://colab.research.google.com/github/matkeii/THC/blob/main/Clase_17_octubre.ipynb\" target=\"_parent\"><img src=\"https://colab.research.google.com/assets/colab-badge.svg\" alt=\"Open In Colab\"/></a>"
      ]
    },
    {
      "cell_type": "code",
      "execution_count": 6,
      "metadata": {
        "colab": {
          "base_uri": "https://localhost:8080/"
        },
        "id": "rXGmRc9Fxkxu",
        "outputId": "6363156e-4ae2-421b-bad1-c674d35bae14"
      },
      "outputs": [
        {
          "output_type": "stream",
          "name": "stdout",
          "text": [
            "9.486832980505138\n"
          ]
        }
      ],
      "source": [
        "import math\n",
        "p = [3,3]\n",
        "q = [6,12]\n",
        "\n",
        "print(math.dist(p, q))"
      ]
    },
    {
      "cell_type": "code",
      "source": [
        "#(math.isinf)(math.inf) -----------> (infinito)\n",
        "#float(\"inf\")"
      ],
      "metadata": {
        "id": "ouNKNQJTyQlO"
      },
      "execution_count": null,
      "outputs": []
    },
    {
      "cell_type": "code",
      "source": [
        "import random\n",
        "\n",
        "random.seed(22)\n",
        "print(random.random())"
      ],
      "metadata": {
        "colab": {
          "base_uri": "https://localhost:8080/"
        },
        "id": "1kym3xw_yuWR",
        "outputId": "d6085567-1285-4afe-db00-d18b6c96ddbc"
      },
      "execution_count": 8,
      "outputs": [
        {
          "output_type": "stream",
          "name": "stdout",
          "text": [
            "0.9582093798172728\n"
          ]
        }
      ]
    },
    {
      "cell_type": "code",
      "source": [
        "import random\n",
        "\n",
        "print(random.randint(3, 9))"
      ],
      "metadata": {
        "colab": {
          "base_uri": "https://localhost:8080/"
        },
        "id": "HBUf8jve0VOp",
        "outputId": "350530bc-d00c-43d1-f3f5-6df980dca375"
      },
      "execution_count": 10,
      "outputs": [
        {
          "output_type": "stream",
          "name": "stdout",
          "text": [
            "4\n"
          ]
        }
      ]
    },
    {
      "cell_type": "code",
      "source": [
        "import random\n",
        "\n",
        "mylist =[\"apple\", \"banana\", \"cherry\"]\n",
        "print(random.choice(mylist))"
      ],
      "metadata": {
        "colab": {
          "base_uri": "https://localhost:8080/"
        },
        "id": "NIbnycKo0-vF",
        "outputId": "79f53825-27f8-492e-97e2-214bd16e5f0d"
      },
      "execution_count": 11,
      "outputs": [
        {
          "output_type": "stream",
          "name": "stdout",
          "text": [
            "apple\n"
          ]
        }
      ]
    },
    {
      "cell_type": "code",
      "source": [
        "#GENERAR MATRICES 2.0\n",
        "A = [[1,2,3],[4,5,6],[7,8,9]]\n",
        "B = [[10,11,12],[13,14,15],[16,17,18]]\n",
        "print(A,B)"
      ],
      "metadata": {
        "colab": {
          "base_uri": "https://localhost:8080/"
        },
        "id": "xhcUay_l1_7H",
        "outputId": "d02f3cda-5d3f-4f75-d7c2-3a574ba3976a"
      },
      "execution_count": 12,
      "outputs": [
        {
          "output_type": "stream",
          "name": "stdout",
          "text": [
            "[[1, 2, 3], [4, 5, 6], [7, 8, 9]] [[10, 11, 12], [13, 14, 15], [16, 17, 18]]\n"
          ]
        }
      ]
    },
    {
      "cell_type": "code",
      "source": [
        "A = [[1,2,3],[4,5,6],[7,8,9]]\n",
        "B = [[10,11,12],[13,14,15],[16,17,18]]\n",
        "print(A[0][2])"
      ],
      "metadata": {
        "colab": {
          "base_uri": "https://localhost:8080/"
        },
        "id": "D6pkGBIA4K9X",
        "outputId": "ab8531b7-1e1e-468f-88f6-6c54031b6316"
      },
      "execution_count": 13,
      "outputs": [
        {
          "output_type": "stream",
          "name": "stdout",
          "text": [
            "3\n"
          ]
        }
      ]
    },
    {
      "cell_type": "code",
      "source": [
        "A = [[1,2,3],[4,5,6],[7,8,9]]\n",
        "for i in range (len(A)):\n",
        "  for j in range(len(A)):\n",
        "    print(A[i][j]) #se mueve por renglones"
      ],
      "metadata": {
        "colab": {
          "base_uri": "https://localhost:8080/"
        },
        "id": "eMn2GYNZ4bI2",
        "outputId": "c73cd955-7cc3-4fff-af1b-53f9c7934f31"
      },
      "execution_count": 33,
      "outputs": [
        {
          "output_type": "stream",
          "name": "stdout",
          "text": [
            "1\n",
            "2\n",
            "3\n",
            "4\n",
            "5\n",
            "6\n",
            "7\n",
            "8\n",
            "9\n"
          ]
        }
      ]
    },
    {
      "cell_type": "code",
      "source": [
        "A = [[1,2,3],[4,5,6],[7,8,9]]\n",
        "for j in range (len(A)):\n",
        "  for i in range(len(A)):\n",
        "    print(A[i][j])  #se mueve por columnas"
      ],
      "metadata": {
        "colab": {
          "base_uri": "https://localhost:8080/"
        },
        "id": "Pp7iS0E_8Mtk",
        "outputId": "2d3b40ea-f921-4906-81c0-86caf7667c83"
      },
      "execution_count": 34,
      "outputs": [
        {
          "output_type": "stream",
          "name": "stdout",
          "text": [
            "1\n",
            "4\n",
            "7\n",
            "2\n",
            "5\n",
            "8\n",
            "3\n",
            "6\n",
            "9\n"
          ]
        }
      ]
    },
    {
      "cell_type": "code",
      "source": [
        "A = [[1,2,3],[4,5,6],[7,8,9]]\n",
        "B = [[10,11,12],[13,14,15],[16,17,18]]\n",
        "for i in range (len(A)):\n",
        "  for j in range(len(A)):\n",
        "    print(A[i][j] + B[i][j])"
      ],
      "metadata": {
        "colab": {
          "base_uri": "https://localhost:8080/"
        },
        "id": "bOvQiHZs8vcZ",
        "outputId": "636d4b55-134f-4688-db47-d0468fff57e7"
      },
      "execution_count": 42,
      "outputs": [
        {
          "output_type": "stream",
          "name": "stdout",
          "text": [
            "11\n",
            "13\n",
            "15\n",
            "17\n",
            "19\n",
            "21\n",
            "23\n",
            "25\n",
            "27\n"
          ]
        }
      ]
    },
    {
      "cell_type": "code",
      "source": [
        "A = [[1,2,3],[4,5,6],[7,8,9]]\n",
        "B = [[10,11,12],[13,14,15],[16,17,18]]\n",
        "for i in range (len(A)):\n",
        "  for j in range(len(A)):\n",
        "    print(A[i][j] * B[i][j])"
      ],
      "metadata": {
        "colab": {
          "base_uri": "https://localhost:8080/"
        },
        "id": "hQDC-YTjAWt7",
        "outputId": "6d5c963c-ed47-47fa-ee17-526e13bcb165"
      },
      "execution_count": 41,
      "outputs": [
        {
          "output_type": "stream",
          "name": "stdout",
          "text": [
            "10\n",
            "22\n",
            "36\n",
            "52\n",
            "70\n",
            "90\n",
            "112\n",
            "136\n",
            "162\n"
          ]
        }
      ]
    },
    {
      "cell_type": "code",
      "source": [
        "A = [5,2,1,8]\n",
        "5>2\n",
        "A = [2,5,1,8]\n",
        "5>1\n",
        "A = [2,1,5,8]\n",
        "2>1\n",
        "A = [1,2,5,8]\n",
        "\n",
        "print(A)"
      ],
      "metadata": {
        "colab": {
          "base_uri": "https://localhost:8080/"
        },
        "id": "Wr44iOCIA_Ad",
        "outputId": "6cba5e6f-3e2c-49a1-a8b9-d5c9d2b069bc"
      },
      "execution_count": 46,
      "outputs": [
        {
          "output_type": "stream",
          "name": "stdout",
          "text": [
            "[1, 2, 5, 8]\n"
          ]
        }
      ]
    },
    {
      "cell_type": "code",
      "source": [
        "A = [5,4,3,2,1]\n",
        "5>4\n",
        "A = [4,5,3,2,1]\n",
        "5>3\n",
        "A = [4,3,5,2,1]\n",
        "5>2\n",
        "A = [4,3,2,5,1]\n",
        "5>1\n",
        "A = [4,3,2,1,5]\n",
        "\n",
        "A = [4,3,2,1]\n",
        "4>3\n",
        "A = [3,4,2,1]\n",
        "4>2\n",
        "A = [3,2,4,1]\n",
        "4>1\n",
        "A = [3,2,1,4]\n",
        "\n",
        "A = [3,2,1]\n",
        "3>2\n",
        "A = [2,3,1]\n",
        "3>1\n",
        "A = [2,1,3]\n",
        "\n",
        "A = [2,1]\n",
        "2>1\n",
        "A = [1,2]\n",
        "\n",
        "print(A)"
      ],
      "metadata": {
        "colab": {
          "base_uri": "https://localhost:8080/"
        },
        "id": "caT1VEiPEDvm",
        "outputId": "da902709-c480-408a-a61b-5be2f76e53d1"
      },
      "execution_count": 48,
      "outputs": [
        {
          "output_type": "stream",
          "name": "stdout",
          "text": [
            "[1, 2]\n"
          ]
        }
      ]
    },
    {
      "cell_type": "code",
      "source": [
        "l = [5,4,3,2,1]\n",
        "n = len(l)\n",
        "for i in range(n-1):\n",
        "  if l[i]>l[i+1]:\n",
        "    print(l)\n",
        "    aux = l[i+1]\n",
        "    l[i+1] = l[i]\n",
        "    l[i] = aux\n",
        "    print(l)"
      ],
      "metadata": {
        "colab": {
          "base_uri": "https://localhost:8080/"
        },
        "id": "v1JlbqJQGGXE",
        "outputId": "dad86d29-6ead-4807-9487-8a5c7320cf64"
      },
      "execution_count": 63,
      "outputs": [
        {
          "output_type": "stream",
          "name": "stdout",
          "text": [
            "[5, 4, 3, 2, 1]\n",
            "[4, 5, 3, 2, 1]\n",
            "[4, 5, 3, 2, 1]\n",
            "[4, 3, 5, 2, 1]\n",
            "[4, 3, 5, 2, 1]\n",
            "[4, 3, 2, 5, 1]\n",
            "[4, 3, 2, 5, 1]\n",
            "[4, 3, 2, 1, 5]\n"
          ]
        }
      ]
    }
  ]
}