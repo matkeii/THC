{
  "nbformat": 4,
  "nbformat_minor": 0,
  "metadata": {
    "colab": {
      "provenance": [],
      "authorship_tag": "ABX9TyONcxKCrRVYBcAvMvpvNTXJ",
      "include_colab_link": true
    },
    "kernelspec": {
      "name": "python3",
      "display_name": "Python 3"
    },
    "language_info": {
      "name": "python"
    }
  },
  "cells": [
    {
      "cell_type": "markdown",
      "metadata": {
        "id": "view-in-github",
        "colab_type": "text"
      },
      "source": [
        "<a href=\"https://colab.research.google.com/github/matkeii/THC/blob/main/Clase_19_Octubre.ipynb\" target=\"_parent\"><img src=\"https://colab.research.google.com/assets/colab-badge.svg\" alt=\"Open In Colab\"/></a>"
      ]
    },
    {
      "cell_type": "code",
      "execution_count": 2,
      "metadata": {
        "colab": {
          "base_uri": "https://localhost:8080/"
        },
        "id": "uGFu7IrOEmmD",
        "outputId": "46f369e6-653b-4030-ba1e-5b1e188e9974"
      },
      "outputs": [
        {
          "output_type": "stream",
          "name": "stdout",
          "text": [
            "[1 2 3 4 5]\n",
            "<class 'numpy.ndarray'>\n"
          ]
        }
      ],
      "source": [
        "import numpy as np\n",
        "\n",
        "arr = np.array([1, 2, 3, 4, 5])\n",
        "\n",
        "print(arr)\n",
        "\n",
        "print(type(arr))"
      ]
    },
    {
      "cell_type": "code",
      "source": [
        "import numpy as np\n",
        "\n",
        "arr1 = np.array([1, 2, 3, 4, 5])\n",
        "\n",
        "print(arr1)\n",
        "\n",
        "print(type(arr1))"
      ],
      "metadata": {
        "colab": {
          "base_uri": "https://localhost:8080/"
        },
        "id": "DGWAAfGuFADX",
        "outputId": "e38c7f4e-f706-455b-c1c6-320d3ed129c7"
      },
      "execution_count": 4,
      "outputs": [
        {
          "output_type": "stream",
          "name": "stdout",
          "text": [
            "[1 2 3 4 5]\n",
            "<class 'numpy.ndarray'>\n"
          ]
        }
      ]
    },
    {
      "cell_type": "code",
      "source": [
        "#arreglo bidimensional______ lista de listas____\n",
        "\n",
        "arr = np.array([[1,2,3], [4,5,6]])\n",
        "print(arr)"
      ],
      "metadata": {
        "colab": {
          "base_uri": "https://localhost:8080/"
        },
        "id": "vU3oRPBvFJK_",
        "outputId": "89548540-402a-4598-bd57-7fa552488ae7"
      },
      "execution_count": 5,
      "outputs": [
        {
          "output_type": "stream",
          "name": "stdout",
          "text": [
            "[[1 2 3]\n",
            " [4 5 6]]\n"
          ]
        }
      ]
    },
    {
      "cell_type": "code",
      "source": [
        "#arreglos tridimensionales _____lista de lista de listas______(matriz de matrices)\n",
        "arr = np.array([[[1,2,3],[4,5,6]],[[1,2,3],[4,5,6]]])\n",
        "print(arr)"
      ],
      "metadata": {
        "colab": {
          "base_uri": "https://localhost:8080/"
        },
        "id": "fegpqQUeFtHb",
        "outputId": "293c5f14-7f17-4cba-b3c0-eb4ec8417f5d"
      },
      "execution_count": 6,
      "outputs": [
        {
          "output_type": "stream",
          "name": "stdout",
          "text": [
            "[[[1 2 3]\n",
            "  [4 5 6]]\n",
            "\n",
            " [[1 2 3]\n",
            "  [4 5 6]]]\n"
          ]
        }
      ]
    },
    {
      "cell_type": "code",
      "source": [
        "a = np.array(42)\n",
        "b = np.array([1,2,3,4,5])\n",
        "c = np.array([[1,2,3], [4,5,6]])\n",
        "d = np.array([[[1,2,3],[4,5,6]],[[1,2,3],[4,5,6]]])\n",
        "\n",
        "print(a.ndim,a.shape) #0 listas\n",
        "print(b.ndim,b.shape) #5 elementos en una lista\n",
        "print(c.ndim,c.shape) #2 listas con 3 elementos cada una\n",
        "print(d.ndim,d.shape) #2 listas que tienen dos listas dentro de ella y esas ultimas listas tienen 3 elementos"
      ],
      "metadata": {
        "colab": {
          "base_uri": "https://localhost:8080/"
        },
        "id": "A1tdcSgRGrSC",
        "outputId": "1cbfa086-ee5f-4adc-b561-29bddf189482"
      },
      "execution_count": 8,
      "outputs": [
        {
          "output_type": "stream",
          "name": "stdout",
          "text": [
            "0 ()\n",
            "1 (5,)\n",
            "2 (2, 3)\n",
            "3 (2, 2, 3)\n"
          ]
        }
      ]
    },
    {
      "cell_type": "code",
      "source": [
        "#entrar a cada elemento en arreglos\n",
        "\n",
        "arr = np.array ([1,2,3,4,5])\n",
        "print(arr[0]) #phyton empieza desde 0"
      ],
      "metadata": {
        "colab": {
          "base_uri": "https://localhost:8080/"
        },
        "id": "l_hfpWLrIeyM",
        "outputId": "a8cd6568-a6c3-441a-e257-333ed558a473"
      },
      "execution_count": 9,
      "outputs": [
        {
          "output_type": "stream",
          "name": "stdout",
          "text": [
            "1\n"
          ]
        }
      ]
    },
    {
      "cell_type": "code",
      "source": [
        "#suma de elementos de una matriz (lista)\n",
        "suma = 0\n",
        "A = [[1,2,3], [4,5,6], [7,8,9]]\n",
        "for i in range(len(A)):\n",
        "  for j in range(len(A)):\n",
        "    suma = suma+A[i][j]\n",
        "print(suma)"
      ],
      "metadata": {
        "colab": {
          "base_uri": "https://localhost:8080/"
        },
        "id": "pSR_6rEmIuLd",
        "outputId": "51a170d8-420c-4bd6-f7fb-b3ce2bc368f1"
      },
      "execution_count": 51,
      "outputs": [
        {
          "output_type": "stream",
          "name": "stdout",
          "text": [
            "45\n"
          ]
        }
      ]
    },
    {
      "cell_type": "code",
      "source": [
        "#suma de elementos de una matriz (numpy)\n",
        "import numpy as np\n",
        "suma = 0\n",
        "arr = np.array[[1,2,3], [4,5,6], [7,8,9]]\n",
        "for i in range(len(A)):\n",
        "  for j in range(len(A)):\n",
        "    sumaArr = A[i][j] + suma\n",
        "print(arr)"
      ],
      "metadata": {
        "colab": {
          "base_uri": "https://localhost:8080/"
        },
        "id": "QHt8I2aBPuSE",
        "outputId": "49d56c7c-ba37-491b-c159-e1bcd9e9b7d3"
      },
      "execution_count": 48,
      "outputs": [
        {
          "output_type": "stream",
          "name": "stdout",
          "text": [
            "45\n"
          ]
        }
      ]
    },
    {
      "cell_type": "code",
      "source": [
        "#producto escalar por renglones (numpy, listas)\n",
        "suma = 0\n",
        "arr = np.array([[1,2,3], [4,5,6], [7,8,9]])\n",
        "arr1 = np.array([[10,11,12], [13,14,15], [16,17,18]])\n",
        "\n",
        "C = len(arr) * [0]\n",
        "print(C)\n",
        "C0 = len(arr) * len(arr1)\n",
        "print(arr[0][0])\n",
        "print(arr1[0][0])\n",
        "\n",
        "multiplicacion = arr[0][0] * arr1[0][0]\n",
        "print(multiplicacion)\n",
        "\n"
      ],
      "metadata": {
        "colab": {
          "base_uri": "https://localhost:8080/"
        },
        "id": "fpM1V7GHNAWD",
        "outputId": "bc1e0a66-7d45-47a1-dfa0-bd69032636f6"
      },
      "execution_count": 47,
      "outputs": [
        {
          "output_type": "stream",
          "name": "stdout",
          "text": [
            "[0, 0, 0]\n",
            "1\n",
            "10\n",
            "10\n"
          ]
        }
      ]
    },
    {
      "cell_type": "markdown",
      "source": [
        "## ***EJERCICIOS RESUELTOS POR PROFESOR***"
      ],
      "metadata": {
        "id": "320OPqQuY0L_"
      }
    },
    {
      "cell_type": "code",
      "source": [
        "#PRODUCTO PUNTO EN LISTAS\n",
        "def ProdPunto(a,b):\n",
        "  PP= 0\n",
        "  for i in range (len(a)):\n",
        "    PP=PP+a[i]*b[i]\n",
        "  return PP"
      ],
      "metadata": {
        "id": "3mX7UCLYWU6t"
      },
      "execution_count": null,
      "outputs": []
    },
    {
      "cell_type": "code",
      "source": [
        "arr2 = np.array([[1,2,3], [4,5,6], [7,8,9]])\n",
        "arr3 = np.array([[10,11,12], [13,14,15], [16,17,18]])\n",
        "Pp_por_renglones= np.array([0,0,0])\n",
        "Pp_por_col = np.array([0,0,0])"
      ],
      "metadata": {
        "id": "1t-L942-W2ys"
      },
      "execution_count": null,
      "outputs": []
    },
    {
      "cell_type": "code",
      "source": [
        "#producto punto por renglones\n",
        "\n",
        "for i in range(len(arr2)):\n",
        "  Pp_por_renglones[i]=ProdPunto(arr2[i],arr3[i])\n",
        "\n",
        "Pp_por_renglones"
      ],
      "metadata": {
        "id": "15Tm4nTuXeml"
      },
      "execution_count": null,
      "outputs": []
    },
    {
      "cell_type": "code",
      "source": [
        "def AC(a,col):\n",
        "  nuevo=[]\n",
        "  for i in range(len(a)):\n",
        "    nuevo.append(a[i,col])\n",
        "\n",
        "  return np.array(nuevo)"
      ],
      "metadata": {
        "id": "7cIfOR-DXAy6"
      },
      "execution_count": 61,
      "outputs": []
    },
    {
      "cell_type": "code",
      "source": [
        "col1=AC(arr2,0)\n",
        "col1"
      ],
      "metadata": {
        "colab": {
          "base_uri": "https://localhost:8080/"
        },
        "id": "rPJHlAU7aDfU",
        "outputId": "ab693ce7-205a-4b0e-c166-981d1b483117"
      },
      "execution_count": 62,
      "outputs": [
        {
          "output_type": "execute_result",
          "data": {
            "text/plain": [
              "array([1, 4, 7])"
            ]
          },
          "metadata": {},
          "execution_count": 62
        }
      ]
    },
    {
      "cell_type": "code",
      "source": [
        "#Producto punto por columnas\n",
        "for i in range(len(arr2)):\n",
        "  Pp_por_col[i]=ProdPunto(AC)"
      ],
      "metadata": {
        "id": "6vgZXpmtaD9F"
      },
      "execution_count": null,
      "outputs": []
    }
  ]
}