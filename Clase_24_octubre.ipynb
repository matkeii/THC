{
  "nbformat": 4,
  "nbformat_minor": 0,
  "metadata": {
    "colab": {
      "provenance": [],
      "authorship_tag": "ABX9TyPecQGyLPFpb2gIMxe8Vyaf",
      "include_colab_link": true
    },
    "kernelspec": {
      "name": "python3",
      "display_name": "Python 3"
    },
    "language_info": {
      "name": "python"
    }
  },
  "cells": [
    {
      "cell_type": "markdown",
      "metadata": {
        "id": "view-in-github",
        "colab_type": "text"
      },
      "source": [
        "<a href=\"https://colab.research.google.com/github/matkeii/THC/blob/main/Clase_24_octubre.ipynb\" target=\"_parent\"><img src=\"https://colab.research.google.com/assets/colab-badge.svg\" alt=\"Open In Colab\"/></a>"
      ]
    },
    {
      "cell_type": "code",
      "source": [
        "import numpy as np"
      ],
      "metadata": {
        "id": "KhwAezNB2Jo3"
      },
      "execution_count": 4,
      "outputs": []
    },
    {
      "cell_type": "code",
      "execution_count": 12,
      "metadata": {
        "colab": {
          "base_uri": "https://localhost:8080/"
        },
        "id": "lw-Y_WKx0Tg6",
        "outputId": "a5d580c2-9510-4ef0-a68d-126c47e8dee2"
      },
      "outputs": [
        {
          "output_type": "stream",
          "name": "stdout",
          "text": [
            "[2 3 4 5]\n",
            "[1 2 3 4]\n",
            "[2 3 4 5 6]\n",
            "[2 3 4 5 6 7]\n",
            "[5 6 7]\n",
            "[1 2 3 4 5 6]\n",
            "[1 2 3 4 5 6 7]\n"
          ]
        }
      ],
      "source": [
        "arr = np.array([1,2,3,4,5,6,7])\n",
        "\n",
        "print(arr[1:5])\n",
        "print(arr[0:4])\n",
        "print(arr[1:6])\n",
        "print(arr[1:])\n",
        "print(arr[4:8])\n",
        "print(arr[0:6])\n",
        "print(arr[0:8])"
      ]
    },
    {
      "cell_type": "code",
      "source": [
        "arr = np.array([1,2,3,4,5,6,7])\n",
        "\n",
        "print(arr[:4])"
      ],
      "metadata": {
        "colab": {
          "base_uri": "https://localhost:8080/"
        },
        "id": "Fi4f9JaS2z8I",
        "outputId": "6cf28c43-84c1-4e85-8083-ece30422fd57"
      },
      "execution_count": 13,
      "outputs": [
        {
          "output_type": "stream",
          "name": "stdout",
          "text": [
            "[1 2 3 4]\n"
          ]
        }
      ]
    },
    {
      "cell_type": "code",
      "source": [
        "arr = np.array([1,2,3,4,5,6,7])\n",
        "\n",
        "print(arr[4:])"
      ],
      "metadata": {
        "colab": {
          "base_uri": "https://localhost:8080/"
        },
        "id": "cWIQgqgy27s7",
        "outputId": "0d9274f8-732e-4477-cc00-5adbffd19d4c"
      },
      "execution_count": 14,
      "outputs": [
        {
          "output_type": "stream",
          "name": "stdout",
          "text": [
            "[5 6 7]\n"
          ]
        }
      ]
    },
    {
      "cell_type": "code",
      "source": [
        "arr = np.array([1,2,3,4,5,6,7]) #EL ULTIMO ELEMENTO ES EL NEGATIVO\n",
        "\n",
        "print(arr[-3:-1])\n",
        "print(arr[-1])"
      ],
      "metadata": {
        "colab": {
          "base_uri": "https://localhost:8080/"
        },
        "id": "xWdQ-m1B3ER9",
        "outputId": "989f4c7d-895c-4f78-c40b-fbc35ff7398f"
      },
      "execution_count": 17,
      "outputs": [
        {
          "output_type": "stream",
          "name": "stdout",
          "text": [
            "[5 6]\n",
            "7\n"
          ]
        }
      ]
    },
    {
      "cell_type": "code",
      "source": [
        "arr = np.array([1,2,3,4,5,6,7])\n",
        "\n",
        "print(arr[1:5:2]) #Primer numero: de donde parto---Segundo numero: donde quiero llegar---Tercer numero: pasos que quiero dar para ese numero"
      ],
      "metadata": {
        "colab": {
          "base_uri": "https://localhost:8080/"
        },
        "id": "hRycmy593ngi",
        "outputId": "1a730732-2914-4125-9869-cd437927e764"
      },
      "execution_count": 18,
      "outputs": [
        {
          "output_type": "stream",
          "name": "stdout",
          "text": [
            "[2 4]\n"
          ]
        }
      ]
    },
    {
      "cell_type": "code",
      "source": [
        "arr = np.array([1,2,3,4,5,6,7])\n",
        "\n",
        "print(arr[2:1])"
      ],
      "metadata": {
        "colab": {
          "base_uri": "https://localhost:8080/"
        },
        "id": "VVDlfmYt4EGP",
        "outputId": "b70a28f0-f37a-40f5-a415-2d143838e6e6"
      },
      "execution_count": 24,
      "outputs": [
        {
          "output_type": "stream",
          "name": "stdout",
          "text": [
            "[]\n"
          ]
        }
      ]
    },
    {
      "cell_type": "code",
      "source": [
        "arr = np.array([[1,2,3,4,5],[6,7,8,9,10]])\n",
        "\n",
        "print(arr[1,1:4]) # VIAJA ENTRE RENGLONES::: 1 = 6,7,8,9,10 --- 1:4 = 0=6,1=7"
      ],
      "metadata": {
        "colab": {
          "base_uri": "https://localhost:8080/"
        },
        "id": "u_VktT4p5Bbk",
        "outputId": "18e799c9-5d33-4efa-c5c9-be024396979c"
      },
      "execution_count": 25,
      "outputs": [
        {
          "output_type": "stream",
          "name": "stdout",
          "text": [
            "[7 8 9]\n"
          ]
        }
      ]
    },
    {
      "cell_type": "code",
      "source": [
        "arr = np.array([[1,2,3,4,5],[6,7,8,9,10]])\n",
        "\n",
        "print(arr[0:2, 2]) # VIAJA ENTRE COLUMNAS:::"
      ],
      "metadata": {
        "colab": {
          "base_uri": "https://localhost:8080/"
        },
        "id": "VhocVwZR5wbw",
        "outputId": "21615118-329f-4939-e0e6-813f184f3a0a"
      },
      "execution_count": 32,
      "outputs": [
        {
          "output_type": "stream",
          "name": "stdout",
          "text": [
            "[3 8]\n"
          ]
        }
      ]
    },
    {
      "cell_type": "code",
      "source": [
        "arr = np.array([[1,2,3,4,5],[6,7,8,9,10]])\n",
        "\n",
        "print(arr[0:2,1:4])\n"
      ],
      "metadata": {
        "colab": {
          "base_uri": "https://localhost:8080/"
        },
        "id": "OjBWOvYv8d_C",
        "outputId": "0dec0a95-38d4-4cda-f7c8-5850cfd8267e"
      },
      "execution_count": 35,
      "outputs": [
        {
          "output_type": "stream",
          "name": "stdout",
          "text": [
            "[[2 3 4]\n",
            " [7 8 9]]\n"
          ]
        }
      ]
    },
    {
      "cell_type": "code",
      "source": [
        "arr = np.array([[1,2,3,4,5],[6,7,8,9,10]])\n",
        "\n",
        "print(arr[0:1, 2:5])"
      ],
      "metadata": {
        "colab": {
          "base_uri": "https://localhost:8080/"
        },
        "id": "N3Xo63bY9Y98",
        "outputId": "ff16c3df-0daa-4eef-f145-6922d01700cc"
      },
      "execution_count": 39,
      "outputs": [
        {
          "output_type": "stream",
          "name": "stdout",
          "text": [
            "[[3 4 5]]\n"
          ]
        }
      ]
    },
    {
      "cell_type": "code",
      "source": [
        "arr = np.array([1,2,3,4,5,6,7])\n",
        "\n",
        "filter_arr = arr % 2 == 0\n",
        "newarr = arr[filter_arr]\n",
        "\n",
        "print(filter_arr)\n",
        "print(newarr)"
      ],
      "metadata": {
        "colab": {
          "base_uri": "https://localhost:8080/"
        },
        "id": "_X2aFAMe-8y6",
        "outputId": "0124481b-9653-4772-892b-020c0c36540d"
      },
      "execution_count": 42,
      "outputs": [
        {
          "output_type": "stream",
          "name": "stdout",
          "text": [
            "[False  True False  True False  True False]\n",
            "[2 4 6]\n"
          ]
        }
      ]
    },
    {
      "cell_type": "markdown",
      "source": [
        "### ***Ejercicios de clase***"
      ],
      "metadata": {
        "id": "vqFJlbaG_nIx"
      }
    },
    {
      "cell_type": "code",
      "source": [
        "x = np.array([1,2,3])\n",
        "y = np.array([4,5,6])\n",
        "\n",
        "suma = x+y\n",
        "print(f\"La suma de los elementos es {suma.tolist()}\") # F es contracción de forma"
      ],
      "metadata": {
        "colab": {
          "base_uri": "https://localhost:8080/"
        },
        "id": "j1DW5KGw_u96",
        "outputId": "42e47b6d-c94e-41ed-f6eb-3d2dddb3e662"
      },
      "execution_count": 47,
      "outputs": [
        {
          "output_type": "stream",
          "name": "stdout",
          "text": [
            "La suma de los elementos es [5, 7, 9]\n"
          ]
        }
      ]
    },
    {
      "cell_type": "code",
      "source": [
        "x = np.array([1,2,3])\n",
        "y = np.array([4,5,6])\n",
        "\n",
        "resta = x-y\n",
        "print(f\"La resta de los elementos es {resta.tolist()}\")"
      ],
      "metadata": {
        "colab": {
          "base_uri": "https://localhost:8080/"
        },
        "id": "9msfaWyEAhoj",
        "outputId": "c978e05b-544e-40ef-ee6f-5c42bd151b1f"
      },
      "execution_count": 49,
      "outputs": [
        {
          "output_type": "stream",
          "name": "stdout",
          "text": [
            "La resta de los elementos es [-3, -3, -3]\n"
          ]
        }
      ]
    },
    {
      "cell_type": "code",
      "source": [
        "x = np.array([1,2,3])\n",
        "y = np.array([4,5,6])\n",
        "\n",
        "mult = x*y\n",
        "print(f\"La multiplicación es {mult.tolist()}\")"
      ],
      "metadata": {
        "colab": {
          "base_uri": "https://localhost:8080/"
        },
        "id": "wh6O_izoAyE3",
        "outputId": "6bceaab1-ab98-4e51-cc36-6852aed0fbe7"
      },
      "execution_count": 50,
      "outputs": [
        {
          "output_type": "stream",
          "name": "stdout",
          "text": [
            "La multiplicación es [4, 10, 18]\n"
          ]
        }
      ]
    },
    {
      "cell_type": "code",
      "source": [
        "x = np.array([1,2,3])\n",
        "y = np.array([4,5,6])\n",
        "\n",
        "div = x/y\n",
        "print(f\"La división de los elementos es {div}\")"
      ],
      "metadata": {
        "colab": {
          "base_uri": "https://localhost:8080/"
        },
        "id": "_D-Y3BZZB3Sk",
        "outputId": "ff21548d-eeb6-4361-ce92-ec73eef90a2e"
      },
      "execution_count": 51,
      "outputs": [
        {
          "output_type": "stream",
          "name": "stdout",
          "text": [
            "La división de los elementos es [0.25 0.4  0.5 ]\n"
          ]
        }
      ]
    },
    {
      "cell_type": "code",
      "source": [
        "print(f\"El numero pi es: {np.pi}\")"
      ],
      "metadata": {
        "colab": {
          "base_uri": "https://localhost:8080/"
        },
        "id": "EwlXM3ZHCSmU",
        "outputId": "b1e24b71-d193-470f-c517-8e4836d4cffa"
      },
      "execution_count": 52,
      "outputs": [
        {
          "output_type": "stream",
          "name": "stdout",
          "text": [
            "El numero pi es: 3.141592653589793\n"
          ]
        }
      ]
    },
    {
      "cell_type": "code",
      "source": [
        "angulos = np.array([0,np.pi/2,np.pi])\n",
        "seno = np.sin(angulos)\n",
        "\n",
        "print(f\"Los senos {seno}\")\n",
        "print(f\"Los angulos {angulos}\")"
      ],
      "metadata": {
        "colab": {
          "base_uri": "https://localhost:8080/"
        },
        "id": "hCEBZ1UYCfTY",
        "outputId": "b9ec15a7-828c-47bc-a94e-003a2c3fe7e8"
      },
      "execution_count": 53,
      "outputs": [
        {
          "output_type": "stream",
          "name": "stdout",
          "text": [
            "Los senos [0.0000000e+00 1.0000000e+00 1.2246468e-16]\n",
            "Los angulos [0.         1.57079633 3.14159265]\n"
          ]
        }
      ]
    },
    {
      "cell_type": "code",
      "source": [
        "arr = np.array([1,2,3,4,5,6,7,8,9,10])\n",
        "Pedir_num = input(\"Elija un numero del 1 al 10: \")\n",
        "\n",
        "for x in range(0,10):\n",
        "  num = np.random.randint(1,10, size=1)\n",
        "  print(f\"Su numero es: {num}?\")\n"
      ],
      "metadata": {
        "colab": {
          "base_uri": "https://localhost:8080/"
        },
        "id": "OxV4DybPHRdP",
        "outputId": "c698cf3b-cd85-44bc-fe50-14ca647c9677"
      },
      "execution_count": 85,
      "outputs": [
        {
          "output_type": "stream",
          "name": "stdout",
          "text": [
            "Elija un numero del 1 al 10: 5\n",
            "Su numero es: [1]?\n",
            "Su numero es: [7]?\n",
            "Su numero es: [4]?\n",
            "Su numero es: [7]?\n",
            "Su numero es: [1]?\n",
            "Su numero es: [3]?\n",
            "Su numero es: [9]?\n",
            "Su numero es: [6]?\n",
            "Su numero es: [8]?\n",
            "Su numero es: [7]?\n"
          ]
        }
      ]
    },
    {
      "cell_type": "markdown",
      "source": [
        "### ***Continuación***"
      ],
      "metadata": {
        "id": "Bqlf6_QLFgKs"
      }
    },
    {
      "cell_type": "code",
      "source": [
        "x = np.array(list(range(1,9))) # Para no declarar una lista por uno mismo\n",
        "\n",
        "print(x)"
      ],
      "metadata": {
        "colab": {
          "base_uri": "https://localhost:8080/"
        },
        "id": "55rsVO83EQK6",
        "outputId": "740df492-ffb8-490b-93fd-fbb93587b471"
      },
      "execution_count": 54,
      "outputs": [
        {
          "output_type": "stream",
          "name": "stdout",
          "text": [
            "[1 2 3 4 5 6 7 8]\n"
          ]
        }
      ]
    },
    {
      "cell_type": "code",
      "source": [
        "matriz = x.reshape(4,2) # x = renglones(4) ---- y = columnas (2)\n",
        "matriz"
      ],
      "metadata": {
        "colab": {
          "base_uri": "https://localhost:8080/"
        },
        "id": "VJp9iRctEYeU",
        "outputId": "aa24b1ce-bb33-4813-ffb4-7299f31d8e85"
      },
      "execution_count": 58,
      "outputs": [
        {
          "output_type": "execute_result",
          "data": {
            "text/plain": [
              "array([[1, 2],\n",
              "       [3, 4],\n",
              "       [5, 6],\n",
              "       [7, 8]])"
            ]
          },
          "metadata": {},
          "execution_count": 58
        }
      ]
    },
    {
      "cell_type": "code",
      "source": [
        "x.reshape(-1,1) #pasar un arreglo a matriz"
      ],
      "metadata": {
        "colab": {
          "base_uri": "https://localhost:8080/"
        },
        "id": "UioLggWKE-Ze",
        "outputId": "75872c3b-7162-4b30-aae2-3cd0c5eb4922"
      },
      "execution_count": 59,
      "outputs": [
        {
          "output_type": "execute_result",
          "data": {
            "text/plain": [
              "array([[1],\n",
              "       [2],\n",
              "       [3],\n",
              "       [4],\n",
              "       [5],\n",
              "       [6],\n",
              "       [7],\n",
              "       [8]])"
            ]
          },
          "metadata": {},
          "execution_count": 59
        }
      ]
    },
    {
      "cell_type": "code",
      "source": [
        "x.reshape(-1,1).shape # nos dice que hay 8 renglones y una sola columna"
      ],
      "metadata": {
        "colab": {
          "base_uri": "https://localhost:8080/"
        },
        "id": "PHHAv9gUFIsr",
        "outputId": "5a54a624-f793-4bac-d07d-c80426693ed4"
      },
      "execution_count": 60,
      "outputs": [
        {
          "output_type": "execute_result",
          "data": {
            "text/plain": [
              "(8, 1)"
            ]
          },
          "metadata": {},
          "execution_count": 60
        }
      ]
    },
    {
      "cell_type": "code",
      "source": [
        "x = np.linspace(0,1,4) #USAMOS LINSPACE PARA CORTAR UNA RECTA DE NUMEROS EN CIERTOS PUNTOS el 4 es el numero de puntos que voy a hacer del 0 al 1\n",
        "x"
      ],
      "metadata": {
        "colab": {
          "base_uri": "https://localhost:8080/"
        },
        "id": "FW1b8tdhFbyl",
        "outputId": "fb90fbb4-ca91-4265-cbcf-25bc0f23723e"
      },
      "execution_count": 61,
      "outputs": [
        {
          "output_type": "execute_result",
          "data": {
            "text/plain": [
              "array([0.        , 0.33333333, 0.66666667, 1.        ])"
            ]
          },
          "metadata": {},
          "execution_count": 61
        }
      ]
    },
    {
      "cell_type": "code",
      "source": [
        "np.random.uniform(0,1,6)"
      ],
      "metadata": {
        "colab": {
          "base_uri": "https://localhost:8080/"
        },
        "id": "MBe3sv6MGkfH",
        "outputId": "e2385519-664e-42fa-c781-e1000a5e4659"
      },
      "execution_count": 64,
      "outputs": [
        {
          "output_type": "execute_result",
          "data": {
            "text/plain": [
              "array([0.02139719, 0.34235233, 0.24563432, 0.2341955 , 0.37412058,\n",
              "       0.72937482])"
            ]
          },
          "metadata": {},
          "execution_count": 64
        }
      ]
    },
    {
      "cell_type": "code",
      "source": [
        "np.random.randint(0,10,size=3) #Intervalo del 1 al 10 elige 3 numeros aleatorios"
      ],
      "metadata": {
        "colab": {
          "base_uri": "https://localhost:8080/"
        },
        "id": "YSf-0Zi3G9sW",
        "outputId": "a5b607f3-69af-48c6-e70d-b449ea535460"
      },
      "execution_count": 65,
      "outputs": [
        {
          "output_type": "execute_result",
          "data": {
            "text/plain": [
              "array([5, 0, 3])"
            ]
          },
          "metadata": {},
          "execution_count": 65
        }
      ]
    }
  ]
}