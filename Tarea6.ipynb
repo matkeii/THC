{
  "nbformat": 4,
  "nbformat_minor": 0,
  "metadata": {
    "colab": {
      "provenance": [],
      "authorship_tag": "ABX9TyNKTExXX/BDKQrtyk7gKJ45",
      "include_colab_link": true
    },
    "kernelspec": {
      "name": "python3",
      "display_name": "Python 3"
    },
    "language_info": {
      "name": "python"
    }
  },
  "cells": [
    {
      "cell_type": "markdown",
      "metadata": {
        "id": "view-in-github",
        "colab_type": "text"
      },
      "source": [
        "<a href=\"https://colab.research.google.com/github/matkeii/THC/blob/main/Tarea6.ipynb\" target=\"_parent\"><img src=\"https://colab.research.google.com/assets/colab-badge.svg\" alt=\"Open In Colab\"/></a>"
      ]
    },
    {
      "cell_type": "code",
      "execution_count": 10,
      "metadata": {
        "colab": {
          "base_uri": "https://localhost:8080/"
        },
        "id": "2xPF75AloKKo",
        "outputId": "d7f83523-a6e0-4ca0-97b6-6448c1ee0286"
      },
      "outputs": [
        {
          "output_type": "stream",
          "name": "stdout",
          "text": [
            "[5, 7, 9]\n"
          ]
        }
      ],
      "source": [
        "A =[1,2,3]\n",
        "B =[4,5,6]\n",
        "def sum_vec(A,B):\n",
        "  if len(A)==len(B):\n",
        "    n =len(A)\n",
        "    C= n*[0.0]\n",
        "    for i in range(n):\n",
        "      C[i]= A[i] + B[i]\n",
        "    print(C)\n",
        "  else:\n",
        "    print(\"sin resultado.\")\n",
        "\n",
        "sum_vec(A,B)"
      ]
    },
    {
      "cell_type": "code",
      "source": [
        "A =[1,2,3]\n",
        "B =[4,5,6]\n",
        "def prod_vec(A,B):\n",
        "  if len(A)==len(B):\n",
        "    n =len(A)\n",
        "    C= n*[0.0]\n",
        "    for i in range(n):\n",
        "      C[i]= A[i] * B[i]\n",
        "    print(C)\n",
        "  else:\n",
        "    print(\"sin resultado.\")\n",
        "\n",
        "prod_vec(A,B)"
      ],
      "metadata": {
        "colab": {
          "base_uri": "https://localhost:8080/"
        },
        "id": "PKpTFTXAsXk-",
        "outputId": "e60e1caf-e9c0-40ed-a692-71d3f510482a"
      },
      "execution_count": 8,
      "outputs": [
        {
          "output_type": "stream",
          "name": "stdout",
          "text": [
            "[4, 10, 18]\n"
          ]
        }
      ]
    },
    {
      "cell_type": "code",
      "source": [
        "A =[1,2,3]\n",
        "n=3\n",
        "def pot_vec(A,n):\n",
        "  if n==0:\n",
        "    C=[1] * len(A)\n",
        "  else:\n",
        "    C = [a ** n for a in A]\n",
        "  print(C)\n",
        "\n",
        "pot_vec(A,n)"
      ],
      "metadata": {
        "colab": {
          "base_uri": "https://localhost:8080/"
        },
        "id": "4PFNjSQ82PLB",
        "outputId": "d10d34de-acc4-47cd-d922-150e8e4e03bc"
      },
      "execution_count": 33,
      "outputs": [
        {
          "output_type": "stream",
          "name": "stdout",
          "text": [
            "[1, 8, 27]\n"
          ]
        }
      ]
    }
  ]
}