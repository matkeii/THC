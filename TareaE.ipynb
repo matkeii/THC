{
  "nbformat": 4,
  "nbformat_minor": 0,
  "metadata": {
    "colab": {
      "provenance": [],
      "authorship_tag": "ABX9TyM8xxNZHc4IEfTs/EQM38LV",
      "include_colab_link": true
    },
    "kernelspec": {
      "name": "python3",
      "display_name": "Python 3"
    },
    "language_info": {
      "name": "python"
    }
  },
  "cells": [
    {
      "cell_type": "markdown",
      "metadata": {
        "id": "view-in-github",
        "colab_type": "text"
      },
      "source": [
        "<a href=\"https://colab.research.google.com/github/matkeii/THC/blob/main/TareaE.ipynb\" target=\"_parent\"><img src=\"https://colab.research.google.com/assets/colab-badge.svg\" alt=\"Open In Colab\"/></a>"
      ]
    },
    {
      "cell_type": "code",
      "source": [
        "import numpy as np"
      ],
      "metadata": {
        "id": "G30U4RregyL2"
      },
      "execution_count": null,
      "outputs": []
    },
    {
      "cell_type": "code",
      "execution_count": null,
      "metadata": {
        "id": "1_LK7Ye5UlNu",
        "colab": {
          "base_uri": "https://localhost:8080/"
        },
        "outputId": "1857a90a-1b33-4273-a534-20c46720194d"
      },
      "outputs": [
        {
          "output_type": "stream",
          "name": "stdout",
          "text": [
            "A=\n",
            "[[1 2 3]\n",
            " [4 5 6]\n",
            " [7 8 9]]\n",
            "B=\n",
            "[[10 11 12]\n",
            " [13 14 15]\n",
            " [16 17 18]]\n",
            "La suma de matrices es\n",
            "[[11 13 15]\n",
            " [17 19 21]\n",
            " [23 25 27]]\n"
          ]
        }
      ],
      "source": [
        "arr1 = np.array([[1,2,3],[4,5,6],[7,8,9]])\n",
        "arr2 = np.array([[10,11,12],[13,14,15],[16,17,18]])\n",
        "C = np.zeros_like(arr1)\n",
        "\n",
        "for i in range (len(arr1)):\n",
        "  for j in range(len(arr1)):\n",
        "    C[i][j] = (arr1[i][j] + arr2[i][j])\n",
        "\n",
        "print(\"A=\")\n",
        "print(arr1[0:3, 0:3])\n",
        "print(\"B=\")\n",
        "print(arr2[0:3, 0:3])\n",
        "print(f\"La suma de matrices es\")\n",
        "print(C)"
      ]
    },
    {
      "cell_type": "code",
      "source": [
        "arr1 = np.array([[1,2,3],[4,5,6],[7,8,9]])\n",
        "arr2 = np.array([[10,11,12],[13,14,15],[16,17,18]])\n",
        "C = np.zeros_like(arr1)\n",
        "\n",
        "for i in range (len(arr1)):\n",
        "  for j in range(len(arr1)):\n",
        "    C[i][j] = (arr1[i][j] * arr2[i][j])\n",
        "\n",
        "print(\"A=\")\n",
        "print(arr1[0:3, 0:3])\n",
        "print(\"B=\")\n",
        "print(arr2[0:3, 0:3])\n",
        "print(f\"La multiplicación de matrices es\")\n",
        "print(C)"
      ],
      "metadata": {
        "colab": {
          "base_uri": "https://localhost:8080/"
        },
        "id": "91vtq901r7_f",
        "outputId": "5e998e53-3531-4a9c-a25c-ba013bf51e86"
      },
      "execution_count": null,
      "outputs": [
        {
          "output_type": "stream",
          "name": "stdout",
          "text": [
            "A=\n",
            "[[1 2 3]\n",
            " [4 5 6]\n",
            " [7 8 9]]\n",
            "B=\n",
            "[[10 11 12]\n",
            " [13 14 15]\n",
            " [16 17 18]]\n",
            "La multiplicación de matrices es\n",
            "[[ 10  22  36]\n",
            " [ 52  70  90]\n",
            " [112 136 162]]\n"
          ]
        }
      ]
    },
    {
      "cell_type": "code",
      "source": [
        "arr1 = np.array([[1, 2, 3], [4, 5, 6], [7, 8, 9]])\n",
        "traza = 0\n",
        "\n",
        "for i in range(len(arr1)):\n",
        "    traza += arr1[i][i]\n",
        "\n",
        "print(\"A=\")\n",
        "print(arr1)\n",
        "print(f\"La traza de la matriz A es\", traza)"
      ],
      "metadata": {
        "colab": {
          "base_uri": "https://localhost:8080/"
        },
        "id": "tKrJP5i2z7WX",
        "outputId": "a954e9a9-378c-4b43-afe2-c893561aa0d4"
      },
      "execution_count": null,
      "outputs": [
        {
          "output_type": "stream",
          "name": "stdout",
          "text": [
            "A:\n",
            "[[1 2 3]\n",
            " [4 5 6]\n",
            " [7 8 9]]\n",
            "La traza de la matriz es 15\n"
          ]
        }
      ]
    },
    {
      "cell_type": "markdown",
      "source": [
        "***EJERCICIO 7, POTENCIA DE MATRICES***"
      ],
      "metadata": {
        "id": "_74NY1gE11LC"
      }
    },
    {
      "cell_type": "code",
      "source": [
        "arr1 = np.array([[1, 2, 3], [4, 5, 6]])\n"
      ],
      "metadata": {
        "id": "tSi6gyr1149V"
      },
      "execution_count": null,
      "outputs": []
    }
  ]
}