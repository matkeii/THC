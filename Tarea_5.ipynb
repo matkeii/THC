{
  "nbformat": 4,
  "nbformat_minor": 0,
  "metadata": {
    "colab": {
      "provenance": [],
      "authorship_tag": "ABX9TyOUGQ2mV1E9udm7ERUfZ5zS",
      "include_colab_link": true
    },
    "kernelspec": {
      "name": "python3",
      "display_name": "Python 3"
    },
    "language_info": {
      "name": "python"
    }
  },
  "cells": [
    {
      "cell_type": "markdown",
      "metadata": {
        "id": "view-in-github",
        "colab_type": "text"
      },
      "source": [
        "<a href=\"https://colab.research.google.com/github/matkeii/THC-2/blob/desarrollo/Tarea_5.ipynb\" target=\"_parent\"><img src=\"https://colab.research.google.com/assets/colab-badge.svg\" alt=\"Open In Colab\"/></a>"
      ]
    },
    {
      "cell_type": "code",
      "source": [
        "números = []\n",
        "suma=0\n",
        "for x in range(5):\n",
        "    valor=int(input(\"Ingrese un número:\"))\n",
        "    números.append(valor)\n",
        "Suma = suma+valor\n",
        "promedio = Suma//5\n",
        "print(números)\n",
        "print(promedio)"
      ],
      "metadata": {
        "colab": {
          "base_uri": "https://localhost:8080/"
        },
        "id": "FlXJpj6BxVrD",
        "outputId": "ea645988-1f4d-4b5f-b51b-7939c78c17d6"
      },
      "execution_count": 66,
      "outputs": [
        {
          "output_type": "stream",
          "name": "stdout",
          "text": [
            "Ingrese un número:10\n",
            "Ingrese un número:10\n",
            "Ingrese un número:10\n",
            "Ingrese un número:10\n",
            "Ingrese un número:10\n",
            "[10, 10, 10, 10, 10]\n",
            "2\n"
          ]
        }
      ]
    },
    {
      "cell_type": "code",
      "source": [
        "lista = [1,2,3,4,5,6,7,8,9]\n",
        "def mayor(lista):\n",
        "    max = lista[0];\n",
        "    for x in lista:\n",
        "        if x > max:\n",
        "            max = x\n",
        "    return max\n",
        "def menor(lista):\n",
        "    min = lista[0];\n",
        "    for x in lista:\n",
        "        if x < min:\n",
        "            min = x\n",
        "    return min\n",
        "print (\"El número máximo es \", mayor(lista))\n",
        "print (\"El número minimo es \", menor(lista))"
      ],
      "metadata": {
        "colab": {
          "base_uri": "https://localhost:8080/"
        },
        "id": "IdYMXuvK2nYj",
        "outputId": "676657fb-e28b-420e-a17d-2c2334a7f697"
      },
      "execution_count": 39,
      "outputs": [
        {
          "output_type": "stream",
          "name": "stdout",
          "text": [
            "El número máximo es  9\n",
            "El número minimo es  1\n"
          ]
        }
      ]
    },
    {
      "cell_type": "code",
      "source": [
        "lista = [1,2,3,4,5,6,7,8,9]\n",
        "par = []\n",
        "impar = []\n",
        "for x in lista:\n",
        "  if x%2 == 0:\n",
        "    print(\"Este número es par:\", x)\n",
        "  else:\n",
        "    print(\"Este numero es impar:\", x)"
      ],
      "metadata": {
        "colab": {
          "base_uri": "https://localhost:8080/"
        },
        "id": "yNfTmiGl6VI8",
        "outputId": "b12bc6b4-03d8-4fc0-a4d7-66bc5dda2d28"
      },
      "execution_count": 68,
      "outputs": [
        {
          "output_type": "stream",
          "name": "stdout",
          "text": [
            "Este numero es impar: 1\n",
            "Este número es par: 2\n",
            "Este numero es impar: 3\n",
            "Este número es par: 4\n",
            "Este numero es impar: 5\n",
            "Este número es par: 6\n",
            "Este numero es impar: 7\n",
            "Este número es par: 8\n",
            "Este numero es impar: 9\n"
          ]
        }
      ]
    }
  ]
}